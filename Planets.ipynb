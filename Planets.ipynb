{
 "cells": [
  {
   "cell_type": "markdown",
   "metadata": {},
   "source": [
    "#### Imports"
   ]
  },
  {
   "cell_type": "code",
   "execution_count": 17,
   "metadata": {
    "collapsed": false
   },
   "outputs": [],
   "source": [
    "import numpy as np\n",
    "from __future__ import print_function\n",
    "import pandas as pd"
   ]
  },
  {
   "cell_type": "code",
   "execution_count": 18,
   "metadata": {
    "collapsed": false
   },
   "outputs": [],
   "source": [
    "from ipywidgets import *\n",
    "from ipywidgets import interact, RadioButtons, FloatSlider"
   ]
  },
  {
   "cell_type": "code",
   "execution_count": 19,
   "metadata": {
    "collapsed": false
   },
   "outputs": [],
   "source": [
    "%matplotlib inline"
   ]
  },
  {
   "cell_type": "code",
   "execution_count": 20,
   "metadata": {
    "collapsed": false
   },
   "outputs": [],
   "source": [
    "import matplotlib.pyplot as plt\n",
    "from matplotlib.colors import ListedColormap"
   ]
  },
  {
   "cell_type": "code",
   "execution_count": 21,
   "metadata": {
    "collapsed": false
   },
   "outputs": [],
   "source": [
    "import matplotlib\n",
    "matplotlib.rcParams.update({\n",
    "  \"lines.linewidth\": 2.0,\n",
    "  #\"examples.download\": True,\n",
    "  \"axes.edgecolor\": \"#bcbcbc\",\n",
    "  \"patch.linewidth\": 0.5,\n",
    "  \"legend.fancybox\": True,\n",
    "  \"axes.color_cycle\": [\"#348ABD\", \"#A60628\", \"#7A68A6\", \"#467821\", \"#CF4457\", \"#188487\", \"#E24A33\"],\n",
    "  \"axes.facecolor\": \"#eeeeee\",\n",
    "  \"axes.labelsize\": \"large\",\n",
    "  \"axes.grid\": True,\n",
    "  \"patch.edgecolor\": \"#eeeeee\",\n",
    "  \"axes.titlesize\": \"x-large\",\n",
    "  \"svg.embed_char_paths\": \"path\",\n",
    "  \"examples.directory\": \"\"\n",
    "})"
   ]
  },
  {
   "cell_type": "markdown",
   "metadata": {},
   "source": [
    "**Note**: This tutorial is tested under this version of Scikits-learn"
   ]
  },
  {
   "cell_type": "code",
   "execution_count": 22,
   "metadata": {
    "collapsed": false
   },
   "outputs": [],
   "source": [
    "clean_records = [('Mercury',0.39, 0.24), ('Venus', 0.72, 0.61), ('Earth', 1.00, 1.00), ('Mars',1.52, 1.88), \n",
    "           ('Jupiter',5.20, 11.86), ('Saturn', 9.54, 29.46)]"
   ]
  },
  {
   "cell_type": "code",
   "execution_count": 23,
   "metadata": {
    "collapsed": false
   },
   "outputs": [],
   "source": [
    "noisy_records = [('Mercury',0.39, 0.1611), ('Venus', 0.72, 0.5370), ('Earth', 1.00, 1.00), ('Mars',1.52, 2.45), \n",
    "           ('Jupiter',5.20, 9.727), ('Saturn', 9.54, 25.04)]"
   ]
  },
  {
   "cell_type": "code",
   "execution_count": 24,
   "metadata": {
    "collapsed": false
   },
   "outputs": [],
   "source": [
    "df = pd.DataFrame().from_records(noisy_records, columns=['Planet', 'R', 'TI'])"
   ]
  },
  {
   "cell_type": "code",
   "execution_count": 25,
   "metadata": {
    "collapsed": false
   },
   "outputs": [
    {
     "data": {
      "text/plain": [
       "array([  0.1611,   0.537 ,   1.    ,   2.45  ,   9.727 ,  25.04  ])"
      ]
     },
     "execution_count": 25,
     "metadata": {},
     "output_type": "execute_result"
    }
   ],
   "source": [
    "df.TI.values"
   ]
  },
  {
   "cell_type": "code",
   "execution_count": 28,
   "metadata": {
    "collapsed": false
   },
   "outputs": [
    {
     "data": {
      "text/plain": [
       "<matplotlib.text.Text at 0x7f2bdfab06d0>"
      ]
     },
     "execution_count": 28,
     "metadata": {},
     "output_type": "execute_result"
    },
    {
     "data": {
      "image/png": "[encoded data removed]",
      "text/plain": [
       "<matplotlib.figure.Figure at 0x7f2bdfb10b50>"
      ]
     },
     "metadata": {},
     "output_type": "display_data"
    }
   ],
   "source": [
    "plt.scatter(df.R.values, df.TI.values, s=60)\n",
    "plt.xlabel('Distance')\n",
    "plt.ylabel('Time')"
   ]
  },
  {
   "cell_type": "markdown",
   "metadata": {},
   "source": [
    "The feature array $X$ is a matrix where each row represents an example."
   ]
  },
  {
   "cell_type": "code",
   "execution_count": 88,
   "metadata": {
    "collapsed": false
   },
   "outputs": [],
   "source": [
    "X1 = np.log(df.R.values)\n",
    "y1 = np.log(df.TI.values)"
   ]
  },
  {
   "cell_type": "code",
   "execution_count": 31,
   "metadata": {
    "collapsed": false
   },
   "outputs": [
    {
     "data": {
      "text/plain": [
       "<matplotlib.text.Text at 0x7f2bdf790d10>"
      ]
     },
     "execution_count": 31,
     "metadata": {},
     "output_type": "execute_result"
    },
    {
     "data": {
      "image/png": "[encoded data removed]",
      "text/plain": [
       "<matplotlib.figure.Figure at 0x7f2bdf9de090>"
      ]
     },
     "metadata": {},
     "output_type": "display_data"
    }
   ],
   "source": [
    "plt.scatter(X1, y1, s=60)\n",
    "plt.xlabel('Distance')\n",
    "plt.ylabel('Time')"
   ]
  },
  {
   "cell_type": "code",
   "execution_count": 75,
   "metadata": {
    "collapsed": true
   },
   "outputs": [],
   "source": [
    "#y1 = y1 + np.random.normal(loc=0.0, scale=0.25, size=6)"
   ]
  },
  {
   "cell_type": "code",
   "execution_count": 76,
   "metadata": {
    "collapsed": false
   },
   "outputs": [],
   "source": [
    "#y1[2] = 0.0"
   ]
  },
  {
   "cell_type": "code",
   "execution_count": 89,
   "metadata": {
    "collapsed": false
   },
   "outputs": [],
   "source": [
    "#np.exp(y1)"
   ]
  },
  {
   "cell_type": "code",
   "execution_count": 90,
   "metadata": {
    "collapsed": false
   },
   "outputs": [],
   "source": [
    "#plt.scatter(df.R.values, np.exp(y1), s=60)\n",
    "#plt.xlabel('Distance')\n",
    "#plt.ylabel('Time')"
   ]
  },
  {
   "cell_type": "markdown",
   "metadata": {},
   "source": [
    "#### Data fitting\n",
    "\n",
    "Try to change the `slope` and `bias` to reduce the residual sum of squares (error).\n",
    "What is the smallest value you can produce?\n",
    "Our goal in regression is to learn {`slope`, `bias`} that minimizes the error term.\n",
    "\n",
    "Notice, that we are asumming that the data fits a line, that does not have to be true. Howeover, we would like to find the best solution under this assumption."
   ]
  },
  {
   "cell_type": "code",
   "execution_count": 32,
   "metadata": {
    "collapsed": false
   },
   "outputs": [
    {
     "name": "stdout",
     "output_type": "stream",
     "text": [
      "Slope = 1.5, Bias = 1.0\n",
      "Residual sum of squares: 1.27\n"
     ]
    },
    {
     "data": {
      "image/png": "[encoded data removed]",
      "text/plain": [
       "<matplotlib.figure.Figure at 0x7f2bd1f15310>"
      ]
     },
     "metadata": {},
     "output_type": "display_data"
    }
   ],
   "source": [
    "def plot_line(slope, bias):\n",
    "  plt.scatter(X1, y1,  color='y', s =60)\n",
    "  plt.xlabel(\"log(Distance)\", fontsize=20); plt.ylabel(\"log(Time)\", fontsize=20)\n",
    " # _ = plt.title(\"$y\\,\\,vs\\,\\,X_2$\", fontsize=20)\n",
    "  predictions = slope * X1 + bias\n",
    "  plt.plot(X1, predictions, color='blue', linewidth=3)\n",
    "  print(\"Slope = {}, Bias = {}\".format(slope, bias))\n",
    "  print(\"Residual sum of squares: %.2f\"\n",
    "      % np.mean((predictions - y1) ** 2))\n",
    "\n",
    "_ = interact(plot_line,\n",
    "         slope=FloatSlider(min=0, max=2, step=0.5, value=0),\n",
    "         bias=FloatSlider(min=-1, max=5, step=0.5, value=0))"
   ]
  },
  {
   "cell_type": "code",
   "execution_count": 100,
   "metadata": {
    "collapsed": false
   },
   "outputs": [
    {
     "name": "stdout",
     "output_type": "stream",
     "text": [
      "Slope = 1.93, Bias = 0.0\n",
      "Residual sum of squares: 0.35\n"
     ]
    },
    {
     "data": {
      "image/png": "[encoded data removed]",
      "text/plain": [
       "<matplotlib.figure.Figure at 0x7f99c1e5ae90>"
      ]
     },
     "metadata": {},
     "output_type": "display_data"
    }
   ],
   "source": [
    "plot_line(1.93, 0.0)"
   ]
  },
  {
   "cell_type": "markdown",
   "metadata": {},
   "source": [
    "#### Linear Model"
   ]
  },
  {
   "cell_type": "code",
   "execution_count": 33,
   "metadata": {
    "collapsed": false
   },
   "outputs": [],
   "source": [
    "from sklearn.linear_model import LinearRegression"
   ]
  },
  {
   "cell_type": "markdown",
   "metadata": {},
   "source": [
    "- `bias` term is called also `intercept`.\n",
    "- If the features vary significantly in range, it pays off to `normalize` the data as a preprocessing step."
   ]
  },
  {
   "cell_type": "code",
   "execution_count": 107,
   "metadata": {
    "collapsed": false
   },
   "outputs": [
    {
     "name": "stdout",
     "output_type": "stream",
     "text": [
      "Model is trained with the following params: {'copy_X': True, 'normalize': False, 'n_jobs': 1, 'fit_intercept': True}\n"
     ]
    }
   ],
   "source": [
    "model = LinearRegression()\n",
    "model = model.fit(X1.reshape(-1,1),) y1\n",
    "predictions = model.predict(X1.reshape(-1,1))\n",
    "print(\"Model is trained with the following params: {}\".format(model.get_params()))"
   ]
  },
  {
   "cell_type": "code",
   "execution_count": 34,
   "metadata": {
    "collapsed": false
   },
   "outputs": [
    {
     "name": "stdout",
     "output_type": "stream",
     "text": [
      "Slope = 1.52334323195, Bias = -0.117734147463\n",
      "Residual sum of squares: 0.04\n",
      "Variance score: 0.99\n"
     ]
    },
    {
     "data": {
      "text/plain": [
       "<matplotlib.text.Text at 0x7f2bd1bf3d50>"
      ]
     },
     "execution_count": 34,
     "metadata": {},
     "output_type": "execute_result"
    },
    {
     "data": {
      "image/png": "[encoded data removed]",
      "text/plain": [
       "<matplotlib.figure.Figure at 0x7f2bd1b82090>"
      ]
     },
     "metadata": {},
     "output_type": "display_data"
    }
   ],
   "source": [
    "print(\"Slope = {}, Bias = {}\".format(model.coef_[0], model.intercept_))\n",
    "# The mean square error\n",
    "print(\"Residual sum of squares: %.2f\"\n",
    "      % np.mean((predictions - y1) ** 2))\n",
    "# Explained variance score: 1 is perfect prediction\n",
    "print('Variance score: %.2f' % model.score(X1.reshape(-1,1), y1))\n",
    "\n",
    "# Plot outputs\n",
    "plt.scatter(X1, y1,  color='y')\n",
    "plt.plot(X1, predictions, color='blue', linewidth=3)\n",
    "plt.xlabel(\"log(Distance)\", fontsize=20); plt.ylabel(\"$log(Time)$\", fontsize=20)\n",
    "#_ = plt.title(\"$y\\,\\,vs\\,\\,X_2$\", fontsize=20)"
   ]
  },
  {
   "cell_type": "markdown",
   "metadata": {},
   "source": [
    "## Polynomial features\n",
    "We can synthesize new features by introducing interactions between the current features.\n",
    "If we are using currently $x_1$ and $x_2$, we can introduce a new feature $x_1x_2$.\n",
    "\n",
    "Given that our feature set is {$x_1$, $x_2$} using the Preprocessing stage `PolynomialFeatures` will introduce the following features:\n",
    "- Degree 1: $x_1$, $x_2$\n",
    "- Degree 2: $x_1$, $x_2$, $x_1^2$, $x_2^2$, $x_1x_2$\n",
    "- Degree 3: $x_1$, $x_2$, $x_1^2$, $x_2^2$, $x_1x_2$, $x_1^3$, $x_2^3$, $x_1^2x_2$, $x_1x_2^2$\n",
    "\n",
    "**Notes**:\n",
    "- Be aware that the number of features in the output array scales polynomially in the number of features of the input array, and exponentially in the degree.\n",
    "- High degrees can cause overfitting."
   ]
  },
  {
   "cell_type": "code",
   "execution_count": 22,
   "metadata": {
    "collapsed": false
   },
   "outputs": [],
   "source": [
    "from sklearn.pipeline import Pipeline\n",
    "from sklearn.preprocessing import PolynomialFeatures\n",
    "from sklearn.linear_model import LinearRegression"
   ]
  },
  {
   "cell_type": "code",
   "execution_count": 23,
   "metadata": {
    "collapsed": false
   },
   "outputs": [],
   "source": [
    "np.random.seed(0)\n",
    "n_samples = 20\n",
    "true_fun = lambda X: np.cos(1.5 * np.pi * X)\n",
    "X3 = np.sort(np.random.rand(n_samples))\n",
    "y3 = true_fun(X3) + np.random.randn(n_samples) * 0.15"
   ]
  },
  {
   "cell_type": "markdown",
   "metadata": {},
   "source": [
    "We can stage two operations, in this case, generating features and training a regressor using the class *Pipeline*. Notice, lines 9 and 10."
   ]
  },
  {
   "cell_type": "code",
   "execution_count": 28,
   "metadata": {
    "code_folding": [],
    "collapsed": false
   },
   "outputs": [],
   "source": [
    "def regressor(degree):\n",
    "  plt.figure(figsize=(6, 4.5))\n",
    "  ax = plt.subplot(1, 1, 1)\n",
    "  plt.setp(ax, xticks=(), yticks=())\n",
    "  degree = int(degree)\n",
    "  polynomial_features = PolynomialFeatures(degree=degree,\n",
    "                                           include_bias=False)\n",
    "  linear_regression = LinearRegression()\n",
    "  pipeline = Pipeline([(\"polynomial_features\", polynomial_features),\n",
    "                         (\"linear_regression\", linear_regression)])\n",
    "  pipeline.fit(X3[:, np.newaxis], y3)\n",
    "\n",
    "  plt.plot(X3, pipeline.predict(X3[:, np.newaxis]), label=\"Model\")\n",
    "  plt.plot(X3, true_fun(X3), label=\"True function\")\n",
    "  plt.scatter(X3, y3, label=\"Samples\")\n",
    "  plt.xlabel(\"$x$\", fontsize=20); plt.ylabel(\"$y=cos(1.5\\pi x)$\", fontsize=20); plt.xlim((0, 1)); plt.ylim((-1.5, 1.5))\n",
    "  plt.legend(loc=\"best\")\n",
    "  plt.title(\"Degree %d\" % degree)"
   ]
  },
  {
   "cell_type": "markdown",
   "metadata": {},
   "source": [
    "**Note:** Increasing model complexity does not imply necessarily producing better models."
   ]
  },
  {
   "cell_type": "code",
   "execution_count": 29,
   "metadata": {
    "collapsed": false
   },
   "outputs": [
    {
     "data": {
      "image/png": "[encoded data removed]",
      "text/plain": [
       "<matplotlib.figure.Figure at 0x7fdd07814950>"
      ]
     },
     "metadata": {},
     "output_type": "display_data"
    }
   ],
   "source": [
    "_ = interact(regressor, degree=FloatSlider(min=1, max=60, step=1, value=1))"
   ]
  },
  {
   "cell_type": "markdown",
   "metadata": {},
   "source": [
    "This example demonstrates the problems of **underfitting** and **overfitting**.\n",
    "Moreover, we can use linear regression with polynomial features to approximate nonlinear functions.\n",
    "The models have polynomial features of different degrees.\n",
    "\n",
    "The plot shows the function that we want to approximate, which is a part of the cosine function ($y=cos(1.5\\pi x)$) and the learned function.\n",
    "\n",
    "We can vary the degree of the polynomial features, to change the model capacity.\n",
    "We can see that a linear function (polynomial with degree 1) is not sufficient to fit the training samples.\n",
    "This is called **underfitting**.\n",
    "A polynomial of degree 2-7 approximates the true function almost perfectly.\n",
    "However, for higher degrees (degree 7) the model will **overfit** the training data, i.e. it learns the noise of the training data."
   ]
  }
 ],
 "metadata": {
  "kernelspec": {
   "display_name": "Python 2",
   "language": "python",
   "name": "python2"
  },
  "language_info": {
   "codemirror_mode": {
    "name": "ipython",
    "version": 2
   },
   "file_extension": ".py",
   "mimetype": "text/x-python",
   "name": "python",
   "nbconvert_exporter": "python",
   "pygments_lexer": "ipython2",
   "version": "2.7.6"
  },
  "widgets": {
   "state": {},
   "version": "1.1.2"
  }
 },
 "nbformat": 4,
 "nbformat_minor": 0
}
