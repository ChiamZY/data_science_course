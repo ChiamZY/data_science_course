{
 "cells": [
  {
   "cell_type": "markdown",
   "metadata": {},
   "source": [
    "## Imports"
   ]
  },
  {
   "cell_type": "code",
   "execution_count": 3,
   "metadata": {
    "collapsed": false
   },
   "outputs": [],
   "source": [
    "import pandas as pd\n",
    "%matplotlib inline\n",
    "import pylab as plt\n",
    "import numpy as np\n",
    "from scipy.stats import ttest_ind"
   ]
  },
  {
   "cell_type": "markdown",
   "metadata": {},
   "source": [
    "## Question we are answering"
   ]
  },
  {
   "cell_type": "markdown",
   "metadata": {},
   "source": [
    "Are boys taller than girls on an average at age X?\n",
    "X can be 2 years, 9 years and 18 years old"
   ]
  },
  {
   "cell_type": "markdown",
   "metadata": {},
   "source": [
    "## Load the data"
   ]
  },
  {
   "cell_type": "code",
   "execution_count": 4,
   "metadata": {
    "collapsed": false
   },
   "outputs": [],
   "source": [
    "df = pd.read_csv('./children_heights.txt', sep='\\t')"
   ]
  },
  {
   "cell_type": "code",
   "execution_count": 5,
   "metadata": {
    "collapsed": false
   },
   "outputs": [
    {
     "data": {
      "text/html": [
       "<div>\n",
       "<table border=\"1\" class=\"dataframe\">\n",
       "  <thead>\n",
       "    <tr style=\"text-align: right;\">\n",
       "      <th></th>\n",
       "      <th>Boys_2</th>\n",
       "      <th>Boys_9</th>\n",
       "      <th>Boys_18</th>\n",
       "      <th>Girls_2</th>\n",
       "      <th>Girls_9</th>\n",
       "      <th>Girls_18</th>\n",
       "    </tr>\n",
       "  </thead>\n",
       "  <tbody>\n",
       "    <tr>\n",
       "      <th>0</th>\n",
       "      <td>90.2</td>\n",
       "      <td>139.4</td>\n",
       "      <td>179.0</td>\n",
       "      <td>83.8</td>\n",
       "      <td>136.5</td>\n",
       "      <td>169.6</td>\n",
       "    </tr>\n",
       "    <tr>\n",
       "      <th>1</th>\n",
       "      <td>91.4</td>\n",
       "      <td>144.3</td>\n",
       "      <td>195.1</td>\n",
       "      <td>86.2</td>\n",
       "      <td>137.0</td>\n",
       "      <td>166.8</td>\n",
       "    </tr>\n",
       "    <tr>\n",
       "      <th>2</th>\n",
       "      <td>86.4</td>\n",
       "      <td>136.5</td>\n",
       "      <td>183.7</td>\n",
       "      <td>85.1</td>\n",
       "      <td>129.0</td>\n",
       "      <td>157.1</td>\n",
       "    </tr>\n",
       "    <tr>\n",
       "      <th>3</th>\n",
       "      <td>87.6</td>\n",
       "      <td>135.4</td>\n",
       "      <td>178.7</td>\n",
       "      <td>88.6</td>\n",
       "      <td>139.4</td>\n",
       "      <td>181.1</td>\n",
       "    </tr>\n",
       "    <tr>\n",
       "      <th>4</th>\n",
       "      <td>86.7</td>\n",
       "      <td>128.9</td>\n",
       "      <td>171.5</td>\n",
       "      <td>83.0</td>\n",
       "      <td>125.6</td>\n",
       "      <td>158.4</td>\n",
       "    </tr>\n",
       "    <tr>\n",
       "      <th>5</th>\n",
       "      <td>88.1</td>\n",
       "      <td>136.0</td>\n",
       "      <td>181.8</td>\n",
       "      <td>88.9</td>\n",
       "      <td>137.1</td>\n",
       "      <td>165.6</td>\n",
       "    </tr>\n",
       "    <tr>\n",
       "      <th>6</th>\n",
       "      <td>82.2</td>\n",
       "      <td>128.5</td>\n",
       "      <td>172.5</td>\n",
       "      <td>89.7</td>\n",
       "      <td>133.6</td>\n",
       "      <td>166.7</td>\n",
       "    </tr>\n",
       "    <tr>\n",
       "      <th>7</th>\n",
       "      <td>83.8</td>\n",
       "      <td>133.2</td>\n",
       "      <td>174.6</td>\n",
       "      <td>81.3</td>\n",
       "      <td>121.4</td>\n",
       "      <td>156.5</td>\n",
       "    </tr>\n",
       "    <tr>\n",
       "      <th>8</th>\n",
       "      <td>91.0</td>\n",
       "      <td>145.6</td>\n",
       "      <td>190.4</td>\n",
       "      <td>88.7</td>\n",
       "      <td>133.6</td>\n",
       "      <td>168.1</td>\n",
       "    </tr>\n",
       "    <tr>\n",
       "      <th>9</th>\n",
       "      <td>87.4</td>\n",
       "      <td>132.4</td>\n",
       "      <td>173.8</td>\n",
       "      <td>88.4</td>\n",
       "      <td>134.1</td>\n",
       "      <td>165.3</td>\n",
       "    </tr>\n",
       "    <tr>\n",
       "      <th>10</th>\n",
       "      <td>84.2</td>\n",
       "      <td>133.7</td>\n",
       "      <td>172.6</td>\n",
       "      <td>85.1</td>\n",
       "      <td>139.4</td>\n",
       "      <td>163.7</td>\n",
       "    </tr>\n",
       "    <tr>\n",
       "      <th>11</th>\n",
       "      <td>88.4</td>\n",
       "      <td>138.3</td>\n",
       "      <td>185.2</td>\n",
       "      <td>91.4</td>\n",
       "      <td>138.1</td>\n",
       "      <td>173.7</td>\n",
       "    </tr>\n",
       "    <tr>\n",
       "      <th>12</th>\n",
       "      <td>87.7</td>\n",
       "      <td>134.6</td>\n",
       "      <td>178.4</td>\n",
       "      <td>86.1</td>\n",
       "      <td>138.4</td>\n",
       "      <td>169.2</td>\n",
       "    </tr>\n",
       "    <tr>\n",
       "      <th>13</th>\n",
       "      <td>89.6</td>\n",
       "      <td>139.0</td>\n",
       "      <td>177.6</td>\n",
       "      <td>94.0</td>\n",
       "      <td>139.5</td>\n",
       "      <td>170.1</td>\n",
       "    </tr>\n",
       "    <tr>\n",
       "      <th>14</th>\n",
       "      <td>91.4</td>\n",
       "      <td>146.0</td>\n",
       "      <td>183.5</td>\n",
       "      <td>82.2</td>\n",
       "      <td>129.8</td>\n",
       "      <td>164.2</td>\n",
       "    </tr>\n",
       "    <tr>\n",
       "      <th>15</th>\n",
       "      <td>90.0</td>\n",
       "      <td>133.2</td>\n",
       "      <td>178.1</td>\n",
       "      <td>88.2</td>\n",
       "      <td>144.8</td>\n",
       "      <td>176.0</td>\n",
       "    </tr>\n",
       "    <tr>\n",
       "      <th>16</th>\n",
       "      <td>86.4</td>\n",
       "      <td>133.3</td>\n",
       "      <td>177.0</td>\n",
       "      <td>87.5</td>\n",
       "      <td>138.9</td>\n",
       "      <td>170.9</td>\n",
       "    </tr>\n",
       "    <tr>\n",
       "      <th>17</th>\n",
       "      <td>90.0</td>\n",
       "      <td>130.3</td>\n",
       "      <td>172.9</td>\n",
       "      <td>88.6</td>\n",
       "      <td>140.3</td>\n",
       "      <td>169.2</td>\n",
       "    </tr>\n",
       "    <tr>\n",
       "      <th>18</th>\n",
       "      <td>91.4</td>\n",
       "      <td>144.5</td>\n",
       "      <td>188.4</td>\n",
       "      <td>86.9</td>\n",
       "      <td>143.8</td>\n",
       "      <td>172.0</td>\n",
       "    </tr>\n",
       "    <tr>\n",
       "      <th>19</th>\n",
       "      <td>81.3</td>\n",
       "      <td>125.4</td>\n",
       "      <td>169.4</td>\n",
       "      <td>86.4</td>\n",
       "      <td>133.6</td>\n",
       "      <td>163.0</td>\n",
       "    </tr>\n",
       "    <tr>\n",
       "      <th>20</th>\n",
       "      <td>90.6</td>\n",
       "      <td>135.8</td>\n",
       "      <td>180.2</td>\n",
       "      <td>80.9</td>\n",
       "      <td>123.5</td>\n",
       "      <td>154.5</td>\n",
       "    </tr>\n",
       "    <tr>\n",
       "      <th>21</th>\n",
       "      <td>92.2</td>\n",
       "      <td>139.9</td>\n",
       "      <td>189.0</td>\n",
       "      <td>90.0</td>\n",
       "      <td>139.9</td>\n",
       "      <td>172.5</td>\n",
       "    </tr>\n",
       "    <tr>\n",
       "      <th>22</th>\n",
       "      <td>87.1</td>\n",
       "      <td>136.8</td>\n",
       "      <td>182.4</td>\n",
       "      <td>94.0</td>\n",
       "      <td>136.1</td>\n",
       "      <td>175.6</td>\n",
       "    </tr>\n",
       "    <tr>\n",
       "      <th>23</th>\n",
       "      <td>91.4</td>\n",
       "      <td>140.6</td>\n",
       "      <td>185.8</td>\n",
       "      <td>89.7</td>\n",
       "      <td>135.8</td>\n",
       "      <td>167.2</td>\n",
       "    </tr>\n",
       "    <tr>\n",
       "      <th>24</th>\n",
       "      <td>89.7</td>\n",
       "      <td>138.6</td>\n",
       "      <td>180.7</td>\n",
       "      <td>86.4</td>\n",
       "      <td>131.9</td>\n",
       "      <td>164.0</td>\n",
       "    </tr>\n",
       "    <tr>\n",
       "      <th>25</th>\n",
       "      <td>92.2</td>\n",
       "      <td>140.0</td>\n",
       "      <td>178.7</td>\n",
       "      <td>86.4</td>\n",
       "      <td>130.9</td>\n",
       "      <td>161.6</td>\n",
       "    </tr>\n",
       "    <tr>\n",
       "      <th>26</th>\n",
       "      <td>NaN</td>\n",
       "      <td>NaN</td>\n",
       "      <td>NaN</td>\n",
       "      <td>81.8</td>\n",
       "      <td>126.3</td>\n",
       "      <td>153.6</td>\n",
       "    </tr>\n",
       "    <tr>\n",
       "      <th>27</th>\n",
       "      <td>NaN</td>\n",
       "      <td>NaN</td>\n",
       "      <td>NaN</td>\n",
       "      <td>91.4</td>\n",
       "      <td>135.5</td>\n",
       "      <td>173.5</td>\n",
       "    </tr>\n",
       "    <tr>\n",
       "      <th>28</th>\n",
       "      <td>NaN</td>\n",
       "      <td>NaN</td>\n",
       "      <td>NaN</td>\n",
       "      <td>88.6</td>\n",
       "      <td>134.0</td>\n",
       "      <td>166.2</td>\n",
       "    </tr>\n",
       "    <tr>\n",
       "      <th>29</th>\n",
       "      <td>NaN</td>\n",
       "      <td>NaN</td>\n",
       "      <td>NaN</td>\n",
       "      <td>86.4</td>\n",
       "      <td>138.2</td>\n",
       "      <td>162.8</td>\n",
       "    </tr>\n",
       "    <tr>\n",
       "      <th>30</th>\n",
       "      <td>NaN</td>\n",
       "      <td>NaN</td>\n",
       "      <td>NaN</td>\n",
       "      <td>94.0</td>\n",
       "      <td>142.0</td>\n",
       "      <td>168.6</td>\n",
       "    </tr>\n",
       "    <tr>\n",
       "      <th>31</th>\n",
       "      <td>NaN</td>\n",
       "      <td>NaN</td>\n",
       "      <td>NaN</td>\n",
       "      <td>89.2</td>\n",
       "      <td>140.8</td>\n",
       "      <td>169.2</td>\n",
       "    </tr>\n",
       "  </tbody>\n",
       "</table>\n",
       "</div>"
      ],
      "text/plain": [
       "    Boys_2  Boys_9  Boys_18  Girls_2  Girls_9  Girls_18\n",
       "0     90.2   139.4    179.0     83.8    136.5     169.6\n",
       "1     91.4   144.3    195.1     86.2    137.0     166.8\n",
       "2     86.4   136.5    183.7     85.1    129.0     157.1\n",
       "3     87.6   135.4    178.7     88.6    139.4     181.1\n",
       "4     86.7   128.9    171.5     83.0    125.6     158.4\n",
       "5     88.1   136.0    181.8     88.9    137.1     165.6\n",
       "6     82.2   128.5    172.5     89.7    133.6     166.7\n",
       "7     83.8   133.2    174.6     81.3    121.4     156.5\n",
       "8     91.0   145.6    190.4     88.7    133.6     168.1\n",
       "9     87.4   132.4    173.8     88.4    134.1     165.3\n",
       "10    84.2   133.7    172.6     85.1    139.4     163.7\n",
       "11    88.4   138.3    185.2     91.4    138.1     173.7\n",
       "12    87.7   134.6    178.4     86.1    138.4     169.2\n",
       "13    89.6   139.0    177.6     94.0    139.5     170.1\n",
       "14    91.4   146.0    183.5     82.2    129.8     164.2\n",
       "15    90.0   133.2    178.1     88.2    144.8     176.0\n",
       "16    86.4   133.3    177.0     87.5    138.9     170.9\n",
       "17    90.0   130.3    172.9     88.6    140.3     169.2\n",
       "18    91.4   144.5    188.4     86.9    143.8     172.0\n",
       "19    81.3   125.4    169.4     86.4    133.6     163.0\n",
       "20    90.6   135.8    180.2     80.9    123.5     154.5\n",
       "21    92.2   139.9    189.0     90.0    139.9     172.5\n",
       "22    87.1   136.8    182.4     94.0    136.1     175.6\n",
       "23    91.4   140.6    185.8     89.7    135.8     167.2\n",
       "24    89.7   138.6    180.7     86.4    131.9     164.0\n",
       "25    92.2   140.0    178.7     86.4    130.9     161.6\n",
       "26     NaN     NaN      NaN     81.8    126.3     153.6\n",
       "27     NaN     NaN      NaN     91.4    135.5     173.5\n",
       "28     NaN     NaN      NaN     88.6    134.0     166.2\n",
       "29     NaN     NaN      NaN     86.4    138.2     162.8\n",
       "30     NaN     NaN      NaN     94.0    142.0     168.6\n",
       "31     NaN     NaN      NaN     89.2    140.8     169.2"
      ]
     },
     "execution_count": 5,
     "metadata": {},
     "output_type": "execute_result"
    }
   ],
   "source": [
    "df"
   ]
  },
  {
   "cell_type": "code",
   "execution_count": 6,
   "metadata": {
    "collapsed": false
   },
   "outputs": [
    {
     "name": "stderr",
     "output_type": "stream",
     "text": [
      "/usr/local/lib/python2.7/dist-packages/numpy/lib/function_base.py:3834: RuntimeWarning: Invalid value encountered in percentile\n",
      "  RuntimeWarning)\n"
     ]
    },
    {
     "data": {
      "text/html": [
       "<div>\n",
       "<table border=\"1\" class=\"dataframe\">\n",
       "  <thead>\n",
       "    <tr style=\"text-align: right;\">\n",
       "      <th></th>\n",
       "      <th>Boys_2</th>\n",
       "      <th>Boys_9</th>\n",
       "      <th>Boys_18</th>\n",
       "      <th>Girls_2</th>\n",
       "      <th>Girls_9</th>\n",
       "      <th>Girls_18</th>\n",
       "    </tr>\n",
       "  </thead>\n",
       "  <tbody>\n",
       "    <tr>\n",
       "      <th>count</th>\n",
       "      <td>26.000000</td>\n",
       "      <td>26.000000</td>\n",
       "      <td>26.000000</td>\n",
       "      <td>32.000000</td>\n",
       "      <td>32.000000</td>\n",
       "      <td>32.000000</td>\n",
       "    </tr>\n",
       "    <tr>\n",
       "      <th>mean</th>\n",
       "      <td>88.400000</td>\n",
       "      <td>136.546154</td>\n",
       "      <td>180.038462</td>\n",
       "      <td>87.465625</td>\n",
       "      <td>135.275000</td>\n",
       "      <td>166.765625</td>\n",
       "    </tr>\n",
       "    <tr>\n",
       "      <th>std</th>\n",
       "      <td>3.035918</td>\n",
       "      <td>5.316031</td>\n",
       "      <td>6.396191</td>\n",
       "      <td>3.506548</td>\n",
       "      <td>5.686884</td>\n",
       "      <td>6.371540</td>\n",
       "    </tr>\n",
       "    <tr>\n",
       "      <th>min</th>\n",
       "      <td>81.300000</td>\n",
       "      <td>125.400000</td>\n",
       "      <td>169.400000</td>\n",
       "      <td>80.900000</td>\n",
       "      <td>121.400000</td>\n",
       "      <td>153.600000</td>\n",
       "    </tr>\n",
       "    <tr>\n",
       "      <th>25%</th>\n",
       "      <td>NaN</td>\n",
       "      <td>NaN</td>\n",
       "      <td>NaN</td>\n",
       "      <td>85.850000</td>\n",
       "      <td>133.175000</td>\n",
       "      <td>163.525000</td>\n",
       "    </tr>\n",
       "    <tr>\n",
       "      <th>50%</th>\n",
       "      <td>NaN</td>\n",
       "      <td>NaN</td>\n",
       "      <td>NaN</td>\n",
       "      <td>87.850000</td>\n",
       "      <td>136.300000</td>\n",
       "      <td>167.000000</td>\n",
       "    </tr>\n",
       "    <tr>\n",
       "      <th>75%</th>\n",
       "      <td>NaN</td>\n",
       "      <td>NaN</td>\n",
       "      <td>NaN</td>\n",
       "      <td>89.325000</td>\n",
       "      <td>139.400000</td>\n",
       "      <td>170.300000</td>\n",
       "    </tr>\n",
       "    <tr>\n",
       "      <th>max</th>\n",
       "      <td>92.200000</td>\n",
       "      <td>146.000000</td>\n",
       "      <td>195.100000</td>\n",
       "      <td>94.000000</td>\n",
       "      <td>144.800000</td>\n",
       "      <td>181.100000</td>\n",
       "    </tr>\n",
       "  </tbody>\n",
       "</table>\n",
       "</div>"
      ],
      "text/plain": [
       "          Boys_2      Boys_9     Boys_18    Girls_2     Girls_9    Girls_18\n",
       "count  26.000000   26.000000   26.000000  32.000000   32.000000   32.000000\n",
       "mean   88.400000  136.546154  180.038462  87.465625  135.275000  166.765625\n",
       "std     3.035918    5.316031    6.396191   3.506548    5.686884    6.371540\n",
       "min    81.300000  125.400000  169.400000  80.900000  121.400000  153.600000\n",
       "25%          NaN         NaN         NaN  85.850000  133.175000  163.525000\n",
       "50%          NaN         NaN         NaN  87.850000  136.300000  167.000000\n",
       "75%          NaN         NaN         NaN  89.325000  139.400000  170.300000\n",
       "max    92.200000  146.000000  195.100000  94.000000  144.800000  181.100000"
      ]
     },
     "execution_count": 6,
     "metadata": {},
     "output_type": "execute_result"
    }
   ],
   "source": [
    "df.describe()"
   ]
  },
  {
   "cell_type": "markdown",
   "metadata": {},
   "source": [
    "## Plot histograms of heights for boys and girls"
   ]
  },
  {
   "cell_type": "code",
   "execution_count": 7,
   "metadata": {
    "collapsed": true
   },
   "outputs": [],
   "source": [
    "def plot_hist(df, columns):\n",
    "    df[columns].hist(color='r', alpha=0.3, normed=False)"
   ]
  },
  {
   "cell_type": "code",
   "execution_count": 8,
   "metadata": {
    "collapsed": false
   },
   "outputs": [
    {
     "data": {
      "image/png": "[encoded data removed]",
      "text/plain": [
       "<matplotlib.figure.Figure at 0x7f0b9cf894d0>"
      ]
     },
     "metadata": {},
     "output_type": "display_data"
    }
   ],
   "source": [
    "plot_hist(df,['Boys_2', 'Girls_2'])"
   ]
  },
  {
   "cell_type": "code",
   "execution_count": 6,
   "metadata": {
    "collapsed": false
   },
   "outputs": [
    {
     "data": {
      "image/png": "[encoded data removed]",
      "text/plain": [
       "<matplotlib.figure.Figure at 0x7f04145f8c10>"
      ]
     },
     "metadata": {},
     "output_type": "display_data"
    }
   ],
   "source": [
    "plot_hist(df,['Boys_9', 'Girls_9'])"
   ]
  },
  {
   "cell_type": "code",
   "execution_count": 7,
   "metadata": {
    "collapsed": false
   },
   "outputs": [
    {
     "data": {
      "image/png": "[encoded data removed]",
      "text/plain": [
       "<matplotlib.figure.Figure at 0x7f04143f4310>"
      ]
     },
     "metadata": {},
     "output_type": "display_data"
    }
   ],
   "source": [
    "plot_hist(df, ['Boys_18', 'Girls_18'])"
   ]
  },
  {
   "cell_type": "markdown",
   "metadata": {},
   "source": [
    "## Summary statistics for the data"
   ]
  },
  {
   "cell_type": "code",
   "execution_count": 8,
   "metadata": {
    "collapsed": false
   },
   "outputs": [
    {
     "name": "stderr",
     "output_type": "stream",
     "text": [
      "/usr/local/lib/python2.7/dist-packages/numpy/lib/function_base.py:3834: RuntimeWarning: Invalid value encountered in percentile\n",
      "  RuntimeWarning)\n"
     ]
    },
    {
     "data": {
      "text/html": [
       "<div>\n",
       "<table border=\"1\" class=\"dataframe\">\n",
       "  <thead>\n",
       "    <tr style=\"text-align: right;\">\n",
       "      <th></th>\n",
       "      <th>Boys_2</th>\n",
       "      <th>Boys_9</th>\n",
       "      <th>Boys_18</th>\n",
       "      <th>Girls_2</th>\n",
       "      <th>Girls_9</th>\n",
       "      <th>Girls_18</th>\n",
       "    </tr>\n",
       "  </thead>\n",
       "  <tbody>\n",
       "    <tr>\n",
       "      <th>count</th>\n",
       "      <td>26.000000</td>\n",
       "      <td>26.000000</td>\n",
       "      <td>26.000000</td>\n",
       "      <td>32.000000</td>\n",
       "      <td>32.000000</td>\n",
       "      <td>32.000000</td>\n",
       "    </tr>\n",
       "    <tr>\n",
       "      <th>mean</th>\n",
       "      <td>88.400000</td>\n",
       "      <td>136.546154</td>\n",
       "      <td>180.038462</td>\n",
       "      <td>87.465625</td>\n",
       "      <td>135.275000</td>\n",
       "      <td>166.765625</td>\n",
       "    </tr>\n",
       "    <tr>\n",
       "      <th>std</th>\n",
       "      <td>3.035918</td>\n",
       "      <td>5.316031</td>\n",
       "      <td>6.396191</td>\n",
       "      <td>3.506548</td>\n",
       "      <td>5.686884</td>\n",
       "      <td>6.371540</td>\n",
       "    </tr>\n",
       "    <tr>\n",
       "      <th>min</th>\n",
       "      <td>81.300000</td>\n",
       "      <td>125.400000</td>\n",
       "      <td>169.400000</td>\n",
       "      <td>80.900000</td>\n",
       "      <td>121.400000</td>\n",
       "      <td>153.600000</td>\n",
       "    </tr>\n",
       "    <tr>\n",
       "      <th>25%</th>\n",
       "      <td>NaN</td>\n",
       "      <td>NaN</td>\n",
       "      <td>NaN</td>\n",
       "      <td>85.850000</td>\n",
       "      <td>133.175000</td>\n",
       "      <td>163.525000</td>\n",
       "    </tr>\n",
       "    <tr>\n",
       "      <th>50%</th>\n",
       "      <td>NaN</td>\n",
       "      <td>NaN</td>\n",
       "      <td>NaN</td>\n",
       "      <td>87.850000</td>\n",
       "      <td>136.300000</td>\n",
       "      <td>167.000000</td>\n",
       "    </tr>\n",
       "    <tr>\n",
       "      <th>75%</th>\n",
       "      <td>NaN</td>\n",
       "      <td>NaN</td>\n",
       "      <td>NaN</td>\n",
       "      <td>89.325000</td>\n",
       "      <td>139.400000</td>\n",
       "      <td>170.300000</td>\n",
       "    </tr>\n",
       "    <tr>\n",
       "      <th>max</th>\n",
       "      <td>92.200000</td>\n",
       "      <td>146.000000</td>\n",
       "      <td>195.100000</td>\n",
       "      <td>94.000000</td>\n",
       "      <td>144.800000</td>\n",
       "      <td>181.100000</td>\n",
       "    </tr>\n",
       "  </tbody>\n",
       "</table>\n",
       "</div>"
      ],
      "text/plain": [
       "          Boys_2      Boys_9     Boys_18    Girls_2     Girls_9    Girls_18\n",
       "count  26.000000   26.000000   26.000000  32.000000   32.000000   32.000000\n",
       "mean   88.400000  136.546154  180.038462  87.465625  135.275000  166.765625\n",
       "std     3.035918    5.316031    6.396191   3.506548    5.686884    6.371540\n",
       "min    81.300000  125.400000  169.400000  80.900000  121.400000  153.600000\n",
       "25%          NaN         NaN         NaN  85.850000  133.175000  163.525000\n",
       "50%          NaN         NaN         NaN  87.850000  136.300000  167.000000\n",
       "75%          NaN         NaN         NaN  89.325000  139.400000  170.300000\n",
       "max    92.200000  146.000000  195.100000  94.000000  144.800000  181.100000"
      ]
     },
     "execution_count": 8,
     "metadata": {},
     "output_type": "execute_result"
    }
   ],
   "source": [
    "df.describe()"
   ]
  },
  {
   "cell_type": "code",
   "execution_count": 9,
   "metadata": {
    "collapsed": false
   },
   "outputs": [],
   "source": [
    "def plot_probs(df, boy_col, girl_col):\n",
    "    fig = plt.figure()\n",
    "    ax = fig.add_subplot(111)\n",
    "    boy_values = df[boy_col].values\n",
    "    boy_values = boy_values[~np.isnan(boy_values)]\n",
    "    weights = np.ones_like(boy_values)/len(boy_values)\n",
    "    _ = ax.hist(boy_values, alpha=0.3, label=['Boys'], weights=weights)\n",
    "    girl_values = df[girl_col].values\n",
    "    girl_values = girl_values[~np.isnan(girl_values)]\n",
    "    weights = np.ones_like(girl_values)/len(girl_values)\n",
    "    _ = ax.hist(girl_values, color='red', alpha=.3, label='Girls', weights=weights)\n",
    "    ax.set_xlabel('Height(cm)', fontsize=14)\n",
    "    ax.set_ylabel('Probability', fontsize=14)\n",
    "    ax.vlines(np.mean(boy_values), 0.0, ax.get_ylim()[1], colors='b', linestyle='--', linewidth=4)\n",
    "    ax.vlines(np.mean(girl_values), 0.0, ax.get_ylim()[1], colors='r', linestyle='--', linewidth=4)\n",
    "    ax.legend()\n",
    "    print \"Result\", ttest_ind(boy_values, girl_values)"
   ]
  },
  {
   "cell_type": "code",
   "execution_count": 10,
   "metadata": {
    "collapsed": false
   },
   "outputs": [
    {
     "name": "stdout",
     "output_type": "stream",
     "text": [
      "Result Ttest_indResult(statistic=1.0708580982445333, pvalue=0.28882695040683509)\n"
     ]
    },
    {
     "data": {
      "image/png": "[encoded data removed]",
      "text/plain": [
       "<matplotlib.figure.Figure at 0x7f0b9cdfab50>"
      ]
     },
     "metadata": {},
     "output_type": "display_data"
    }
   ],
   "source": [
    "plot_probs(df, 'Boys_2', 'Girls_2')"
   ]
  },
  {
   "cell_type": "code",
   "execution_count": 11,
   "metadata": {
    "collapsed": false
   },
   "outputs": [
    {
     "name": "stdout",
     "output_type": "stream",
     "text": [
      "Result Ttest_indResult(statistic=0.87148628022315633, pvalue=0.38720967132857143)\n"
     ]
    },
    {
     "data": {
      "image/png": "[encoded data removed]",
      "text/plain": [
       "<matplotlib.figure.Figure at 0x7f0414124b50>"
      ]
     },
     "metadata": {},
     "output_type": "display_data"
    }
   ],
   "source": [
    "plot_probs(df, 'Boys_9', 'Girls_9')"
   ]
  },
  {
   "cell_type": "code",
   "execution_count": 11,
   "metadata": {
    "collapsed": false
   },
   "outputs": [
    {
     "name": "stdout",
     "output_type": "stream",
     "text": [
      "Result Ttest_indResult(statistic=7.8761998332333256, pvalue=1.2361838873133691e-10)\n"
     ]
    },
    {
     "data": {
      "image/png": "[encoded data removed]",
      "text/plain": [
       "<matplotlib.figure.Figure at 0x7f0b9cd06f10>"
      ]
     },
     "metadata": {},
     "output_type": "display_data"
    }
   ],
   "source": [
    "plot_probs(df, 'Boys_18', 'Girls_18')"
   ]
  },
  {
   "cell_type": "markdown",
   "metadata": {},
   "source": [
    "Observe that although there are differences in heights of girls and boys at age 2, 9 no significant differences are found on an average. However at 18 years of age, on an average boys are taller than girls and this difference is statistically significant at level 0.05 "
   ]
  },
  {
   "cell_type": "code",
   "execution_count": null,
   "metadata": {
    "collapsed": true
   },
   "outputs": [],
   "source": []
  },
  {
   "cell_type": "code",
   "execution_count": null,
   "metadata": {
    "collapsed": true
   },
   "outputs": [],
   "source": []
  },
  {
   "cell_type": "code",
   "execution_count": null,
   "metadata": {
    "collapsed": true
   },
   "outputs": [],
   "source": []
  }
 ],
 "metadata": {
  "kernelspec": {
   "display_name": "Python 2",
   "language": "python",
   "name": "python2"
  },
  "language_info": {
   "codemirror_mode": {
    "name": "ipython",
    "version": 2
   },
   "file_extension": ".py",
   "mimetype": "text/x-python",
   "name": "python",
   "nbconvert_exporter": "python",
   "pygments_lexer": "ipython2",
   "version": "2.7.6"
  },
  "widgets": {
   "state": {},
   "version": "1.1.2"
  }
 },
 "nbformat": 4,
 "nbformat_minor": 0
}
